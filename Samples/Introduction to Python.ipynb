{
    "nbformat_minor": 0,
    "cells": [
        {
            "source": "# An Informal Introduction to Python\n[The [source material](https://docs.python.org/3.5/tutorial/introduction.html) is from Python 3.5.1, but the contents of this tutorial should apply to almost any version of Python 3]",
            "cell_type": "markdown",
            "metadata": {}
        },
        {
            "source": "Many of the examples in this manual, even those entered at the interactive prompt, include comments. Comments in Python start with the hash character, `#`, and extend to the end of the physical line. A comment may appear at the start of a line or following whitespace or code, but not within a string literal. A hash character within a string literal is just a hash character. Since comments are to clarify code and are not interpreted by Python, they may be omitted when typing in examples.\n\nSome examples:",
            "cell_type": "markdown",
            "metadata": {}
        },
        {
            "execution_count": 1,
            "cell_type": "code",
            "source": "# This is the first comment\nspam = 1  # and this is the second comment\n          # ... and now a third!\ntext = \"# This is not a comment because it's inside quotes.\"",
            "outputs": [],
            "metadata": { "collapsed": true }
        },
        {
            "source": "## Using Python as a Calculator\nLet's try some simple Python commands.",
            "cell_type": "markdown",
            "metadata": {}
        },
        {
            "source": "### Numbers\nThe interpreter acts as a simple calculator: you can type an expression at it and it will write the value. Expression syntax is straightforward: the operators `+`, `-`, `*` and `/` work just like in most other languages (for example, Pascal or C); parentheses (`()`) can be used for grouping. For example:",
            "cell_type": "markdown",
            "metadata": {}
        },
        {
            "execution_count": 2,
            "cell_type": "code",
            "source": "2 + 2",
            "outputs": [
                {
                    "execution_count": 2,
                    "output_type": "execute_result",
                    "data": { "text/plain": "4" },
                    "metadata": {}
                }
            ],
            "metadata": { "collapsed": false }
        },
        {
            "execution_count": 3,
            "cell_type": "code",
            "source": "50 - 5*6",
            "outputs": [
                {
                    "execution_count": 3,
                    "output_type": "execute_result",
                    "data": { "text/plain": "20" },
                    "metadata": {}
                }
            ],
            "metadata": { "collapsed": false }
        },
        {
            "execution_count": 4,
            "cell_type": "code",
            "source": "(50 - 5*6) / 4",
            "outputs": [
                {
                    "execution_count": 4,
                    "output_type": "execute_result",
                    "data": { "text/plain": "5.0" },
                    "metadata": {}
                }
            ],
            "metadata": { "collapsed": false }
        },
        {
            "execution_count": 5,
            "cell_type": "code",
            "source": "8 / 5  # Division always returns a floating point number.",
            "outputs": [
                {
                    "execution_count": 5,
                    "output_type": "execute_result",
                    "data": { "text/plain": "1.6" },
                    "metadata": {}
                }
            ],
            "metadata": { "collapsed": false }
        },
        {
            "source": "The integer numbers (e.g. `2`, `4`, `20`) have type [`int`](https://docs.python.org/3.5/library/functions.html#int), the ones with a fractional part (e.g. `5.0`, `1.6`) have type [`float`](https://docs.python.org/3.5/library/functions.html#float). We will see more about numeric types later in the tutorial.\n\nDivision (`/`) always returns a float. To do [floor division](https://docs.python.org/3.5/glossary.html#term-floor-division) and get an integer result (discarding any fractional result) you can use the `//` operator; to calculate the remainder you can use `%`:",
            "cell_type": "markdown",
            "metadata": {}
        },
        {
            "execution_count": 6,
            "cell_type": "code",
            "source": "17 / 3  # Classic division returns a float.",
            "outputs": [
                {
                    "execution_count": 6,
                    "output_type": "execute_result",
                    "data": { "text/plain": "5.666666666666667" },
                    "metadata": {}
                }
            ],
            "metadata": { "collapsed": false }
        },
        {
            "execution_count": 7,
            "cell_type": "code",
            "source": "17 // 3  # Floor division discards the fractional part.",
            "outputs": [
                {
                    "execution_count": 7,
                    "output_type": "execute_result",
                    "data": { "text/plain": "5" },
                    "metadata": {}
                }
            ],
            "metadata": { "collapsed": false }
        },
        {
            "execution_count": 8,
            "cell_type": "code",
            "source": "17 % 3  # The % operator returns the remainder of the division.",
            "outputs": [
                {
                    "execution_count": 8,
                    "output_type": "execute_result",
                    "data": { "text/plain": "2" },
                    "metadata": {}
                }
            ],
            "metadata": { "collapsed": false }
        },
        {
            "execution_count": 9,
            "cell_type": "code",
            "source": "5 * 3 + 2  # result * divisor + remainder",
            "outputs": [
                {
                    "execution_count": 9,
                    "output_type": "execute_result",
                    "data": { "text/plain": "17" },
                    "metadata": {}
                }
            ],
            "metadata": { "collapsed": false }
        },
        {
            "source": "With Python, it is possible to use the `**` operator to calculate powers:",
            "cell_type": "markdown",
            "metadata": {}
        },
        {
            "execution_count": 10,
            "cell_type": "code",
            "source": "5 ** 2  # 5 squared",
            "outputs": [
                {
                    "execution_count": 10,
                    "output_type": "execute_result",
                    "data": { "text/plain": "25" },
                    "metadata": {}
                }
            ],
            "metadata": { "collapsed": false }
        },
        {
            "execution_count": 11,
            "cell_type": "code",
            "source": "2 ** 7  # 2 to the power of 7",
            "outputs": [
                {
                    "execution_count": 11,
                    "output_type": "execute_result",
                    "data": { "text/plain": "128" },
                    "metadata": {}
                }
            ],
            "metadata": { "collapsed": false }
        },
        {
            "source": "Do note that `**` has higher precedence than `-`, so if you want a negative base you will need parentheses:",
            "cell_type": "markdown",
            "metadata": {}
        },
        {
            "execution_count": 12,
            "cell_type": "code",
            "source": "-3**2  # Same as -(3**2)",
            "outputs": [
                {
                    "execution_count": 12,
                    "output_type": "execute_result",
                    "data": { "text/plain": "-9" },
                    "metadata": {}
                }
            ],
            "metadata": { "collapsed": false }
        },
        {
            "execution_count": 13,
            "cell_type": "code",
            "source": "(-3)**2",
            "outputs": [
                {
                    "execution_count": 13,
                    "output_type": "execute_result",
                    "data": { "text/plain": "9" },
                    "metadata": {}
                }
            ],
            "metadata": { "collapsed": false }
        },
        {
            "source": "The equal sign (`=`) is used to assign a value to a variable. Afterwards, no result is displayed before the next interactive prompt:",
            "cell_type": "markdown",
            "metadata": {}
        },
        {
            "execution_count": 14,
            "cell_type": "code",
            "source": "width = 20\nheight = 5 * 9\nwidth * height",
            "outputs": [
                {
                    "execution_count": 14,
                    "output_type": "execute_result",
                    "data": { "text/plain": "900" },
                    "metadata": {}
                }
            ],
            "metadata": { "collapsed": false }
        },
        {
            "source": "If a variable is not 'defined' (assigned a value), trying to use it will give you an error:",
            "cell_type": "markdown",
            "metadata": {}
        },
        {
            "execution_count": 15,
            "cell_type": "code",
            "source": "n  # Try to access an undefined variable.",
            "outputs": [
                {
                    "ename": "NameError",
                    "evalue": "name 'n' is not defined",
                    "traceback": [ "[1;31m---------------------------------------------------------------------------[0m", "[1;31mNameError[0m                                 Traceback (most recent call last)", "[1;32m<ipython-input-15-3f95c5a59d25>[0m in [0;36m<module>[1;34m()[0m\n[1;32m----> 1[1;33m [0mn[0m  [1;31m# Try to access an undefined variable.[0m[1;33m[0m[0m\n[0m", "[1;31mNameError[0m: name 'n' is not defined" ],
                    "output_type": "error"
                }
            ],
            "metadata": { "collapsed": false }
        },
        {
            "source": "There is full support for floating point; operators with mixed type operands convert the integer operand to floating point:",
            "cell_type": "markdown",
            "metadata": {}
        },
        {
            "execution_count": 16,
            "cell_type": "code",
            "source": "3 * 3.75 / 1.5",
            "outputs": [
                {
                    "execution_count": 16,
                    "output_type": "execute_result",
                    "data": { "text/plain": "7.5" },
                    "metadata": {}
                }
            ],
            "metadata": { "collapsed": false }
        },
        {
            "execution_count": 17,
            "cell_type": "code",
            "source": "7.0 / 2",
            "outputs": [
                {
                    "execution_count": 17,
                    "output_type": "execute_result",
                    "data": { "text/plain": "3.5" },
                    "metadata": {}
                }
            ],
            "metadata": { "collapsed": false }
        },
        {
            "source": "In interactive mode, the last printed expression is assigned to the variable `_`. This means that when you are using Python as a desk calculator, it is somewhat easier to continue calculations, for example:",
            "cell_type": "markdown",
            "metadata": {}
        },
        {
            "execution_count": 18,
            "cell_type": "code",
            "source": "tax = 12.5 / 100\nprice = 100.50\nprice * tax",
            "outputs": [
                {
                    "execution_count": 18,
                    "output_type": "execute_result",
                    "data": { "text/plain": "12.5625" },
                    "metadata": {}
                }
            ],
            "metadata": { "collapsed": false }
        },
        {
            "execution_count": 19,
            "cell_type": "code",
            "source": "price + _",
            "outputs": [
                {
                    "execution_count": 19,
                    "output_type": "execute_result",
                    "data": { "text/plain": "113.0625" },
                    "metadata": {}
                }
            ],
            "metadata": { "collapsed": false }
        },
        {
            "execution_count": 20,
            "cell_type": "code",
            "source": "round(_, 2)",
            "outputs": [
                {
                    "execution_count": 20,
                    "output_type": "execute_result",
                    "data": { "text/plain": "113.06" },
                    "metadata": {}
                }
            ],
            "metadata": { "collapsed": false }
        },
        {
            "source": "This variable should be treated as read-only by the user. Don't explicitly assign a value to it you would create an independent local variable with the same name masking the built-in variable with its magic behavior.\n\nIn addition to `int` and `float`, Python supports other types of numbers, such as [`Decimal`](https://docs.python.org/3.5/library/decimal.html#decimal.Decimal) and [`Fraction`](https://docs.python.org/3.5/library/fractions.html#fractions.Fraction). Python also has built-in support for [complex numbers](https://docs.python.org/3.5/library/stdtypes.html#typesnumeric), and uses the `j` or `J` suffix to indicate the imaginary part (e.g. `3+5j`).",
            "cell_type": "markdown",
            "metadata": {}
        },
        {
            "source": "### Strings",
            "cell_type": "markdown",
            "metadata": {}
        },
        {
            "source": "Besides numbers, Python can also manipulate strings, which can be expressed in several ways. They can be enclosed in single quotes (`'...'`) or double quotes (`\"...\"`) with the same result. `\\` can be used to escape quotes:",
            "cell_type": "markdown",
            "metadata": {}
        },
        {
            "execution_count": 21,
            "cell_type": "code",
            "source": "'spam eggs'  # Single quotes.",
            "outputs": [
                {
                    "execution_count": 21,
                    "output_type": "execute_result",
                    "data": { "text/plain": "'spam eggs'" },
                    "metadata": {}
                }
            ],
            "metadata": { "collapsed": false }
        },
        {
            "execution_count": 22,
            "cell_type": "code",
            "source": "'doesn\\'t'  # Use \\' to escape the single quote...",
            "outputs": [
                {
                    "execution_count": 22,
                    "output_type": "execute_result",
                    "data": { "text/plain": "\"doesn't\"" },
                    "metadata": {}
                }
            ],
            "metadata": { "collapsed": false }
        },
        {
            "execution_count": 23,
            "cell_type": "code",
            "source": "\"doesn't\"  # ...or use double quotes instead.",
            "outputs": [
                {
                    "execution_count": 23,
                    "output_type": "execute_result",
                    "data": { "text/plain": "\"doesn't\"" },
                    "metadata": {}
                }
            ],
            "metadata": { "collapsed": false }
        },
        {
            "execution_count": 24,
            "cell_type": "code",
            "source": "'\"Yes,\" he said.'",
            "outputs": [
                {
                    "execution_count": 24,
                    "output_type": "execute_result",
                    "data": { "text/plain": "'\"Yes,\" he said.'" },
                    "metadata": {}
                }
            ],
            "metadata": { "collapsed": false }
        },
        {
            "execution_count": 25,
            "cell_type": "code",
            "source": "\"\\\"Yes,\\\" he said.\"",
            "outputs": [
                {
                    "execution_count": 25,
                    "output_type": "execute_result",
                    "data": { "text/plain": "'\"Yes,\" he said.'" },
                    "metadata": {}
                }
            ],
            "metadata": { "collapsed": false }
        },
        {
            "execution_count": 26,
            "cell_type": "code",
            "source": "'\"Isn\\'t,\" she said.'",
            "outputs": [
                {
                    "execution_count": 26,
                    "output_type": "execute_result",
                    "data": { "text/plain": "'\"Isn\\'t,\" she said.'" },
                    "metadata": {}
                }
            ],
            "metadata": { "collapsed": false }
        },
        {
            "source": "In the interactive interpreter, the output string is enclosed in quotes and special characters are escaped with backslashes. While this might sometimes look different from the input (the enclosing quotes could change), the two strings are equivalent. The string is enclosed in double quotes if the string contains a single quote and no double quotes, otherwise it is enclosed in single quotes. The [`print()`](https://docs.python.org/3.5/library/functions.html#print) function produces a more readable output, by omitting the enclosing quotes and by printing escaped and special characters:",
            "cell_type": "markdown",
            "metadata": {}
        },
        {
            "execution_count": 27,
            "cell_type": "code",
            "source": "'\"Isn\\'t,\" she said.'",
            "outputs": [
                {
                    "execution_count": 27,
                    "output_type": "execute_result",
                    "data": { "text/plain": "'\"Isn\\'t,\" she said.'" },
                    "metadata": {}
                }
            ],
            "metadata": { "collapsed": false }
        },
        {
            "execution_count": 28,
            "cell_type": "code",
            "source": "print('\"Isn\\'t,\" she said.')",
            "outputs": [
                {
                    "output_type": "stream",
                    "name": "stdout",
                    "text": "\"Isn't,\" she said.\n"
                }
            ],
            "metadata": { "collapsed": false }
        },
        {
            "execution_count": 29,
            "cell_type": "code",
            "source": "s = 'First line.\\nSecond line.'  # \\n means newline.\ns  # Without print(), \\n is included in the output.",
            "outputs": [
                {
                    "execution_count": 29,
                    "output_type": "execute_result",
                    "data": { "text/plain": "'First line.\\nSecond line.'" },
                    "metadata": {}
                }
            ],
            "metadata": { "collapsed": false }
        },
        {
            "execution_count": 30,
            "cell_type": "code",
            "source": "print(s)  # With print(), \\n produces a new line.",
            "outputs": [
                {
                    "output_type": "stream",
                    "name": "stdout",
                    "text": "First line.\nSecond line.\n"
                }
            ],
            "metadata": { "collapsed": false }
        },
        {
            "source": "If you don't want characters prefaced by `\\` to be interpreted as special characters, you can use _raw strings_ by adding an `r` before the first quote:",
            "cell_type": "markdown",
            "metadata": {}
        },
        {
            "execution_count": 31,
            "cell_type": "code",
            "source": "print('C:\\some\\name')  # Here \\n means newline!",
            "outputs": [
                {
                    "output_type": "stream",
                    "name": "stdout",
                    "text": "C:\\some\name\n"
                }
            ],
            "metadata": { "collapsed": false }
        },
        {
            "execution_count": 32,
            "cell_type": "code",
            "source": "print(r'C:\\some\\name')  # Note the r before the quote.",
            "outputs": [
                {
                    "output_type": "stream",
                    "name": "stdout",
                    "text": "C:\\some\\name\n"
                }
            ],
            "metadata": { "collapsed": false }
        },
        {
            "source": "String literals can span multiple lines. One way is using triple-quotes: `\"\"\"...\"\"\"` or `'''...'''`. End of lines are automatically included in the string, but it's possible to prevent this by adding a `\\` at the end of the line. The following example:",
            "cell_type": "markdown",
            "metadata": {}
        },
        {
            "execution_count": 33,
            "cell_type": "code",
            "source": "print(\"\"\"\\\nUsage: thingy [OPTIONS]\n     -h                        Display this usage message\n     -H hostname               Hostname to connect to\n\"\"\")",
            "outputs": [
                {
                    "output_type": "stream",
                    "name": "stdout",
                    "text": "Usage: thingy [OPTIONS]\n     -h                        Display this usage message\n     -H hostname               Hostname to connect to\n\n"
                }
            ],
            "metadata": { "collapsed": false }
        },
        {
            "source": "Strings can be concatenated (glued together) with the `+` operator, and repeated with `*`:",
            "cell_type": "markdown",
            "metadata": {}
        },
        {
            "execution_count": 34,
            "cell_type": "code",
            "source": "# 3 times 'un', followed by 'ium'\n3 * 'un' + 'ium'",
            "outputs": [
                {
                    "execution_count": 34,
                    "output_type": "execute_result",
                    "data": { "text/plain": "'unununium'" },
                    "metadata": {}
                }
            ],
            "metadata": { "collapsed": false }
        },
        {
            "source": "Two or more _string literals_ (i.e. the ones enclosed between quotes) next to each other are automatically concatenated.",
            "cell_type": "markdown",
            "metadata": {}
        },
        {
            "execution_count": 35,
            "cell_type": "code",
            "source": "'Py' 'thon'",
            "outputs": [
                {
                    "execution_count": 35,
                    "output_type": "execute_result",
                    "data": { "text/plain": "'Python'" },
                    "metadata": {}
                }
            ],
            "metadata": { "collapsed": false }
        },
        {
            "source": "This only works with two literals though, not with variables or expressions:",
            "cell_type": "markdown",
            "metadata": {}
        },
        {
            "execution_count": 36,
            "cell_type": "code",
            "source": "prefix = 'Py'\nprefix 'thon'  # Can't concatenate a variable and a string literal.",
            "outputs": [
                {
                    "ename": "SyntaxError",
                    "evalue": "invalid syntax (<ipython-input-36-6fcf19fbd400>, line 2)",
                    "traceback": [ "[1;36m  File [1;32m\"<ipython-input-36-6fcf19fbd400>\"[1;36m, line [1;32m2[0m\n[1;33m    prefix 'thon'  # Can't concatenate a variable and a string literal.[0m\n[1;37m                ^[0m\n[1;31mSyntaxError[0m[1;31m:[0m invalid syntax\n" ],
                    "output_type": "error"
                }
            ],
            "metadata": { "collapsed": false }
        },
        {
            "execution_count": 37,
            "cell_type": "code",
            "source": "('un' * 3) 'ium'",
            "outputs": [
                {
                    "ename": "SyntaxError",
                    "evalue": "invalid syntax (<ipython-input-37-826b8aeb7d3b>, line 1)",
                    "traceback": [ "[1;36m  File [1;32m\"<ipython-input-37-826b8aeb7d3b>\"[1;36m, line [1;32m1[0m\n[1;33m    ('un' * 3) 'ium'[0m\n[1;37m                   ^[0m\n[1;31mSyntaxError[0m[1;31m:[0m invalid syntax\n" ],
                    "output_type": "error"
                }
            ],
            "metadata": { "collapsed": false }
        },
        {
            "source": "If you want to concatenate variables or a variable and a literal, use `+`:",
            "cell_type": "markdown",
            "metadata": {}
        },
        {
            "execution_count": 38,
            "cell_type": "code",
            "source": "prefix = 'Py'\nprefix + 'thon'",
            "outputs": [
                {
                    "execution_count": 38,
                    "output_type": "execute_result",
                    "data": { "text/plain": "'Python'" },
                    "metadata": {}
                }
            ],
            "metadata": { "collapsed": false }
        },
        {
            "source": "This feature is particularly useful when you want to break long strings:",
            "cell_type": "markdown",
            "metadata": {}
        },
        {
            "execution_count": 39,
            "cell_type": "code",
            "source": "text = ('Put several strings within parentheses '\n            'to have them joined together.')\ntext",
            "outputs": [
                {
                    "execution_count": 39,
                    "output_type": "execute_result",
                    "data": { "text/plain": "'Put several strings within parentheses to have them joined together.'" },
                    "metadata": {}
                }
            ],
            "metadata": { "collapsed": false }
        },
        {
            "source": "Strings can be _indexed_ (subscripted), with the first character having index 0. There is no separate character type; a character is simply a string of size one:",
            "cell_type": "markdown",
            "metadata": {}
        },
        {
            "execution_count": 40,
            "cell_type": "code",
            "source": "word = 'Python'\nword[0]  # Character in position 0.",
            "outputs": [
                {
                    "execution_count": 40,
                    "output_type": "execute_result",
                    "data": { "text/plain": "'P'" },
                    "metadata": {}
                }
            ],
            "metadata": { "collapsed": false }
        },
        {
            "execution_count": 41,
            "cell_type": "code",
            "source": "word[5]  # Character in position 5.",
            "outputs": [
                {
                    "execution_count": 41,
                    "output_type": "execute_result",
                    "data": { "text/plain": "'n'" },
                    "metadata": {}
                }
            ],
            "metadata": { "collapsed": false }
        },
        {
            "source": "Indices may also be negative numbers, to start counting from the right:",
            "cell_type": "markdown",
            "metadata": {}
        },
        {
            "execution_count": 42,
            "cell_type": "code",
            "source": "word[-1]  # Last character.",
            "outputs": [
                {
                    "execution_count": 42,
                    "output_type": "execute_result",
                    "data": { "text/plain": "'n'" },
                    "metadata": {}
                }
            ],
            "metadata": { "collapsed": false }
        },
        {
            "execution_count": 43,
            "cell_type": "code",
            "source": "word[-2]  # Second-last character.",
            "outputs": [
                {
                    "execution_count": 43,
                    "output_type": "execute_result",
                    "data": { "text/plain": "'o'" },
                    "metadata": {}
                }
            ],
            "metadata": { "collapsed": false }
        },
        {
            "execution_count": 44,
            "cell_type": "code",
            "source": "word[-6]",
            "outputs": [
                {
                    "execution_count": 44,
                    "output_type": "execute_result",
                    "data": { "text/plain": "'P'" },
                    "metadata": {}
                }
            ],
            "metadata": { "collapsed": false }
        },
        {
            "source": "Note that since -0 is the same as 0, negative indices start from -1.\n\nIn addition to indexing, _slicing_ is also supported. While indexing is used to obtain individual characters, slicing allows you to obtain substring:",
            "cell_type": "markdown",
            "metadata": {}
        },
        {
            "execution_count": 45,
            "cell_type": "code",
            "source": "word[0:2]  # Characters from position 0 (included) to 2 (excluded).",
            "outputs": [
                {
                    "execution_count": 45,
                    "output_type": "execute_result",
                    "data": { "text/plain": "'Py'" },
                    "metadata": {}
                }
            ],
            "metadata": { "collapsed": false }
        },
        {
            "execution_count": 46,
            "cell_type": "code",
            "source": "word[2:5]  # Characters from position 2 (included) to 5 (excluded).",
            "outputs": [
                {
                    "execution_count": 46,
                    "output_type": "execute_result",
                    "data": { "text/plain": "'tho'" },
                    "metadata": {}
                }
            ],
            "metadata": { "collapsed": false }
        },
        {
            "source": "Note how the start is always included, and the end always excluded. This makes sure that `s[:i] + s[i:]` is always equal to `s`:",
            "cell_type": "markdown",
            "metadata": {}
        },
        {
            "execution_count": 47,
            "cell_type": "code",
            "source": "word[:2] + word[2:]",
            "outputs": [
                {
                    "execution_count": 47,
                    "output_type": "execute_result",
                    "data": { "text/plain": "'Python'" },
                    "metadata": {}
                }
            ],
            "metadata": { "collapsed": false }
        },
        {
            "execution_count": 48,
            "cell_type": "code",
            "source": "word[:4] + word[4:]",
            "outputs": [
                {
                    "execution_count": 48,
                    "output_type": "execute_result",
                    "data": { "text/plain": "'Python'" },
                    "metadata": {}
                }
            ],
            "metadata": { "collapsed": false }
        },
        {
            "source": "Slice indices have useful defaults; an omitted first index defaults to zero, an omitted second index defaults to the size of the string being sliced.",
            "cell_type": "markdown",
            "metadata": {}
        },
        {
            "execution_count": 49,
            "cell_type": "code",
            "source": "word[:2]  # Character from the beginning to position 2 (excluded).",
            "outputs": [
                {
                    "execution_count": 49,
                    "output_type": "execute_result",
                    "data": { "text/plain": "'Py'" },
                    "metadata": {}
                }
            ],
            "metadata": { "collapsed": false }
        },
        {
            "execution_count": 50,
            "cell_type": "code",
            "source": "word[4:]  # Characters from position 4 (included) to the end.",
            "outputs": [
                {
                    "execution_count": 50,
                    "output_type": "execute_result",
                    "data": { "text/plain": "'on'" },
                    "metadata": {}
                }
            ],
            "metadata": { "collapsed": false }
        },
        {
            "execution_count": 51,
            "cell_type": "code",
            "source": "word[-2:] # Characters from the second-last (included) to the end.",
            "outputs": [
                {
                    "execution_count": 51,
                    "output_type": "execute_result",
                    "data": { "text/plain": "'on'" },
                    "metadata": {}
                }
            ],
            "metadata": { "collapsed": false }
        },
        {
            "source": "One way to remember how slices work is to think of the indices as pointing between characters, with the left edge of the first character numbered 0. Then the right edge of the last character of a string of _n_ characters has index _n_, for example:",
            "cell_type": "markdown",
            "metadata": {}
        },
        {
            "source": " +---+---+---+---+---+---+\n | P | y | t | h | o | n |\n +---+---+---+---+---+---+\n 0   1   2   3   4   5   6\n-6  -5  -4  -3  -2  -1",
            "cell_type": "raw",
            "metadata": {}
        },
        {
            "source": "The first row of numbers gives the position of the indices 0...6 in the string; the second row gives the corresponding negative indices. The slice from _i_ to _j_ consists of all characters between the edges labeled _i_ and _j_, respectively.\n\nFor non-negative indices, the length of a slice is the difference of the indices, if both are within bounds. For example, the length of `word[1:3]` is 2.\n\nAttempting to use an index that is too large will result in an error:",
            "cell_type": "markdown",
            "metadata": {}
        },
        {
            "execution_count": 52,
            "cell_type": "code",
            "source": "word[42]  # The word only has 6 characters.",
            "outputs": [
                {
                    "ename": "IndexError",
                    "evalue": "string index out of range",
                    "traceback": [ "[1;31m---------------------------------------------------------------------------[0m", "[1;31mIndexError[0m                                Traceback (most recent call last)", "[1;32m<ipython-input-52-80def1e3ff80>[0m in [0;36m<module>[1;34m()[0m\n[1;32m----> 1[1;33m [0mword[0m[1;33m[[0m[1;36m42[0m[1;33m][0m  [1;31m# The word only has 6 characters.[0m[1;33m[0m[0m\n[0m", "[1;31mIndexError[0m: string index out of range" ],
                    "output_type": "error"
                }
            ],
            "metadata": { "collapsed": false }
        },
        {
            "execution_count": 53,
            "cell_type": "code",
            "source": "word[4:42]",
            "outputs": [
                {
                    "execution_count": 53,
                    "output_type": "execute_result",
                    "data": { "text/plain": "'on'" },
                    "metadata": {}
                }
            ],
            "metadata": { "collapsed": false }
        },
        {
            "execution_count": 54,
            "cell_type": "code",
            "source": "word[42:]",
            "outputs": [
                {
                    "execution_count": 54,
                    "output_type": "execute_result",
                    "data": { "text/plain": "''" },
                    "metadata": {}
                }
            ],
            "metadata": { "collapsed": false }
        },
        {
            "source": "Python strings cannot be changed, they are [immutable](https://docs.python.org/3.5/glossary.html#term-immutable). Therefore, assigning to an indexed position in the string results in an error:",
            "cell_type": "markdown",
            "metadata": {}
        },
        {
            "execution_count": 55,
            "cell_type": "code",
            "source": "word[0] = 'J'",
            "outputs": [
                {
                    "ename": "TypeError",
                    "evalue": "'str' object does not support item assignment",
                    "traceback": [ "[1;31m---------------------------------------------------------------------------[0m", "[1;31mTypeError[0m                                 Traceback (most recent call last)", "[1;32m<ipython-input-55-197b67ffdd83>[0m in [0;36m<module>[1;34m()[0m\n[1;32m----> 1[1;33m [0mword[0m[1;33m[[0m[1;36m0[0m[1;33m][0m [1;33m=[0m [1;34m'J'[0m[1;33m[0m[0m\n[0m", "[1;31mTypeError[0m: 'str' object does not support item assignment" ],
                    "output_type": "error"
                }
            ],
            "metadata": { "collapsed": false }
        },
        {
            "execution_count": 56,
            "cell_type": "code",
            "source": "word[2:] = 'py'",
            "outputs": [
                {
                    "ename": "TypeError",
                    "evalue": "'str' object does not support item assignment",
                    "traceback": [ "[1;31m---------------------------------------------------------------------------[0m", "[1;31mTypeError[0m                                 Traceback (most recent call last)", "[1;32m<ipython-input-56-0786521edfdd>[0m in [0;36m<module>[1;34m()[0m\n[1;32m----> 1[1;33m [0mword[0m[1;33m[[0m[1;36m2[0m[1;33m:[0m[1;33m][0m [1;33m=[0m [1;34m'py'[0m[1;33m[0m[0m\n[0m", "[1;31mTypeError[0m: 'str' object does not support item assignment" ],
                    "output_type": "error"
                }
            ],
            "metadata": { "collapsed": false }
        },
        {
            "execution_count": 57,
            "cell_type": "code",
            "source": "'J' + word[1:]",
            "outputs": [
                {
                    "execution_count": 57,
                    "output_type": "execute_result",
                    "data": { "text/plain": "'Jython'" },
                    "metadata": {}
                }
            ],
            "metadata": { "collapsed": false }
        },
        {
            "execution_count": 58,
            "cell_type": "code",
            "source": "word[:2] + 'Py'",
            "outputs": [
                {
                    "execution_count": 58,
                    "output_type": "execute_result",
                    "data": { "text/plain": "'PyPy'" },
                    "metadata": {}
                }
            ],
            "metadata": { "collapsed": false }
        },
        {
            "source": "The built-in function [`len()`](https://docs.python.org/3.5/library/functions.html#len) returns the length of a string:",
            "cell_type": "markdown",
            "metadata": {}
        },
        {
            "execution_count": 59,
            "cell_type": "code",
            "source": "s = 'supercalifragilisticexpialidocious'\nlen(s)",
            "outputs": [
                {
                    "execution_count": 59,
                    "output_type": "execute_result",
                    "data": { "text/plain": "34" },
                    "metadata": {}
                }
            ],
            "metadata": { "collapsed": false }
        },
        {
            "source": "See also:\n\n- [Text Sequence Type str](https://docs.python.org/3.5/library/stdtypes.html#textseq): Strings are examples of _sequence types_, and support the common operations supported by such types.\n- [String Methods](https://docs.python.org/3.5/library/stdtypes.html#string-methods): Strings support a large number of methods for basic transformations and searching.\n- [Format String Syntax](https://docs.python.org/3.5/library/string.html#formatstrings): Information about string formatting with [`str.format()`](https://docs.python.org/3.5/library/string.html#formatstrings).\n- [`printf`-style String Formatting](https://docs.python.org/3.5/library/stdtypes.html#old-string-formatting): The old formatting operations invoked when strings and Unicode strings are the left operand of the `%` operator.",
            "cell_type": "markdown",
            "metadata": {}
        },
        {
            "source": "### Lists",
            "cell_type": "markdown",
            "metadata": {}
        },
        {
            "source": "Python knows a number of _compound_ data types, used to group together other values. The most versatile is the [_list_](https://docs.python.org/3.5/library/stdtypes.html#typesseq-list), which can be written as a list of comma-separated values (items) between square brackets. Lists might contain items of different types, but usually the items all have the same type.",
            "cell_type": "markdown",
            "metadata": {}
        },
        {
            "execution_count": 60,
            "cell_type": "code",
            "source": "squares = [1, 4, 9, 16, 25]\nsquares",
            "outputs": [
                {
                    "execution_count": 60,
                    "output_type": "execute_result",
                    "data": { "text/plain": "[1, 4, 9, 16, 25]" },
                    "metadata": {}
                }
            ],
            "metadata": { "collapsed": false }
        },
        {
            "source": "Like strings (and all other built-in [sequence](https://docs.python.org/3.5/glossary.html#term-sequence) type), lists can be indexed and sliced:",
            "cell_type": "markdown",
            "metadata": {}
        },
        {
            "execution_count": 61,
            "cell_type": "code",
            "source": "squares[0]  # Indexing returns the item.",
            "outputs": [
                {
                    "execution_count": 61,
                    "output_type": "execute_result",
                    "data": { "text/plain": "1" },
                    "metadata": {}
                }
            ],
            "metadata": { "collapsed": false }
        },
        {
            "execution_count": 62,
            "cell_type": "code",
            "source": "squares[-1]",
            "outputs": [
                {
                    "execution_count": 62,
                    "output_type": "execute_result",
                    "data": { "text/plain": "25" },
                    "metadata": {}
                }
            ],
            "metadata": { "collapsed": false }
        },
        {
            "execution_count": 63,
            "cell_type": "code",
            "source": "squares[-3:]  # Slicing returns a new list.",
            "outputs": [
                {
                    "execution_count": 63,
                    "output_type": "execute_result",
                    "data": { "text/plain": "[9, 16, 25]" },
                    "metadata": {}
                }
            ],
            "metadata": { "collapsed": false }
        },
        {
            "source": "All slice operations return a new list containing the requested elements. This means that the following slice returns a new (shallow) copy of the list:",
            "cell_type": "markdown",
            "metadata": {}
        },
        {
            "execution_count": 64,
            "cell_type": "code",
            "source": "squares[:]",
            "outputs": [
                {
                    "execution_count": 64,
                    "output_type": "execute_result",
                    "data": { "text/plain": "[1, 4, 9, 16, 25]" },
                    "metadata": {}
                }
            ],
            "metadata": { "collapsed": false }
        },
        {
            "source": "Lists also support operations like concatenation:",
            "cell_type": "markdown",
            "metadata": {}
        },
        {
            "execution_count": 65,
            "cell_type": "code",
            "source": "squares + [36, 49, 64, 81, 100]",
            "outputs": [
                {
                    "execution_count": 65,
                    "output_type": "execute_result",
                    "data": { "text/plain": "[1, 4, 9, 16, 25, 36, 49, 64, 81, 100]" },
                    "metadata": {}
                }
            ],
            "metadata": { "collapsed": false }
        },
        {
            "source": "Unlike strings, which are [immutable](https://docs.python.org/3.5/glossary.html#term-immutable), lists are a [mutable](https://docs.python.org/3.5/glossary.html#term-mutable) type, i.e. it is possible to change their content:",
            "cell_type": "markdown",
            "metadata": {}
        },
        {
            "execution_count": 66,
            "cell_type": "code",
            "source": "cubes = [1, 8, 27, 65, 125]  # Something's wrong here ...\n4 ** 3  # the cube of 4 is 64, not 65!",
            "outputs": [
                {
                    "execution_count": 66,
                    "output_type": "execute_result",
                    "data": { "text/plain": "64" },
                    "metadata": {}
                }
            ],
            "metadata": { "collapsed": false }
        },
        {
            "execution_count": 67,
            "cell_type": "code",
            "source": "cubes[3] = 64  # Replace the wrong value.\ncubes",
            "outputs": [
                {
                    "execution_count": 67,
                    "output_type": "execute_result",
                    "data": { "text/plain": "[1, 8, 27, 64, 125]" },
                    "metadata": {}
                }
            ],
            "metadata": { "collapsed": false }
        },
        {
            "source": "You can also add new items at the end of the list, by using the `append()` method (we will see more about methods later):",
            "cell_type": "markdown",
            "metadata": {}
        },
        {
            "execution_count": 68,
            "cell_type": "code",
            "source": "cubes.append(216)  # Add the cube of 6 ...\ncubes.append(7 ** 3)  # and the cube of 7.\ncubes",
            "outputs": [
                {
                    "execution_count": 68,
                    "output_type": "execute_result",
                    "data": { "text/plain": "[1, 8, 27, 64, 125, 216, 343]" },
                    "metadata": {}
                }
            ],
            "metadata": { "collapsed": false }
        },
        {
            "source": "Assignment to slices is also possible, and this can even change the size of the list or clear it entirely:",
            "cell_type": "markdown",
            "metadata": {}
        },
        {
            "execution_count": 69,
            "cell_type": "code",
            "source": "letters = ['a', 'b', 'c', 'd', 'e', 'f', 'g']\nletters",
            "outputs": [
                {
                    "execution_count": 69,
                    "output_type": "execute_result",
                    "data": { "text/plain": "['a', 'b', 'c', 'd', 'e', 'f', 'g']" },
                    "metadata": {}
                }
            ],
            "metadata": { "collapsed": false }
        },
        {
            "execution_count": 70,
            "cell_type": "code",
            "source": "# Replace some values.\nletters[2:5] = ['C', 'D', 'E']\nletters",
            "outputs": [
                {
                    "execution_count": 70,
                    "output_type": "execute_result",
                    "data": { "text/plain": "['a', 'b', 'C', 'D', 'E', 'f', 'g']" },
                    "metadata": {}
                }
            ],
            "metadata": { "collapsed": false }
        },
        {
            "execution_count": 71,
            "cell_type": "code",
            "source": "# Now remove them.\nletters[2:5] = []\nletters",
            "outputs": [
                {
                    "execution_count": 71,
                    "output_type": "execute_result",
                    "data": { "text/plain": "['a', 'b', 'f', 'g']" },
                    "metadata": {}
                }
            ],
            "metadata": { "collapsed": false }
        },
        {
            "execution_count": 72,
            "cell_type": "code",
            "source": "# Clear the list by replacing all the elements with an empty list.\nletters[:] = []\nletters",
            "outputs": [
                {
                    "execution_count": 72,
                    "output_type": "execute_result",
                    "data": { "text/plain": "[]" },
                    "metadata": {}
                }
            ],
            "metadata": { "collapsed": false }
        },
        {
            "source": "The built-in function [`len()`](https://docs.python.org/3.5/library/functions.html#len) also applies to lists:",
            "cell_type": "markdown",
            "metadata": {}
        },
        {
            "execution_count": 73,
            "cell_type": "code",
            "source": "letters = ['a', 'b', 'c', 'd']\nlen(letters)",
            "outputs": [
                {
                    "execution_count": 73,
                    "output_type": "execute_result",
                    "data": { "text/plain": "4" },
                    "metadata": {}
                }
            ],
            "metadata": { "collapsed": false }
        },
        {
            "source": "It is possible to nest lists (create lists containing other lists), for example:",
            "cell_type": "markdown",
            "metadata": {}
        },
        {
            "execution_count": 74,
            "cell_type": "code",
            "source": "a = ['a', 'b', 'c']\nn = [1, 2, 3]\nx = [a, n]\nx",
            "outputs": [
                {
                    "execution_count": 74,
                    "output_type": "execute_result",
                    "data": { "text/plain": "[['a', 'b', 'c'], [1, 2, 3]]" },
                    "metadata": {}
                }
            ],
            "metadata": { "collapsed": false }
        },
        {
            "execution_count": 75,
            "cell_type": "code",
            "source": "x[0]",
            "outputs": [
                {
                    "execution_count": 75,
                    "output_type": "execute_result",
                    "data": { "text/plain": "['a', 'b', 'c']" },
                    "metadata": {}
                }
            ],
            "metadata": { "collapsed": false }
        },
        {
            "execution_count": 76,
            "cell_type": "code",
            "source": "x[0][1]",
            "outputs": [
                {
                    "execution_count": 76,
                    "output_type": "execute_result",
                    "data": { "text/plain": "'b'" },
                    "metadata": {}
                }
            ],
            "metadata": { "collapsed": false }
        },
        {
            "source": "## First Steps Towards Programming",
            "cell_type": "markdown",
            "metadata": {}
        },
        {
            "source": "Of course, we can use Python for more complicated tasks than adding two and two together. For instance, we can write an initial sub-sequence of the Fibonacci series as follows:",
            "cell_type": "markdown",
            "metadata": {}
        },
        {
            "execution_count": 77,
            "cell_type": "code",
            "source": "# Fibonacci series:\n# the sum of two elements defines the next.\na, b = 0, 1\nwhile b < 10:\n    print(b)\n    a, b = b, a+b",
            "outputs": [
                {
                    "output_type": "stream",
                    "name": "stdout",
                    "text": "1\n1\n2\n3\n5\n8\n"
                }
            ],
            "metadata": { "collapsed": false }
        },
        {
            "source": "This example introduces several new features.\n\n- The first line contains a _multiple assignment_: the variables `a` and `b` simultaneously get the new values 0 and 1. On the last line this is used again, demonstrating that the expressions on the right-hand side are all evaluated first before any of the assignments take place. The right-hand side expressions are evaluated from the left to the right.\n\n- The [`while`](https://docs.python.org/3.5/reference/compound_stmts.html#while) loop executes as long as the condition (here: `b < 10`) remains true. In Python, like in C, any non-zero integer value is true; zero is false. The condition may also be a string or list value, in fact any sequence; anything with a non-zero length is true, empty sequences are false. The test used in the example is a simple comparison. The standard comparison operators are written the same as in C: `<` (less than), `>` (greater than), `==` (equal to), `<=` (less than or equal to), `>=` (greater than or equal to) and `!=` (not equal to).\n\n- The _body_ of the loop is _indented_: indentation is Python's way of grouping statements. At the interactive prompt, you have to type a tab or space(s) for each indented line. In practice you will prepare more complicated input for Python with a text editor; all decent text editors have an auto-indent facility. When a compound statement is entered interactively, it must be followed by a blank line to indicate completion (since the parser cannot guess when you have typed the last line). Note that each line within a basic block must be indented by the same amount.\n\n- The [`print()`](https://docs.python.org/3.5/library/functions.html#print) function writes the value of the argument(s) it is given. It differs from just writing the expression you want to write (as we did earlier in the calculator examples) in the way it handles multiple arguments, floating point quantities, and strings. Strings are printed without quotes, and a space is inserted between items, so you can format things nicely, like this:",
            "cell_type": "markdown",
            "metadata": {}
        },
        {
            "execution_count": 78,
            "cell_type": "code",
            "source": "i = 256*256\nprint('The value of i is', i)",
            "outputs": [
                {
                    "output_type": "stream",
                    "name": "stdout",
                    "text": "The value of i is 65536\n"
                }
            ],
            "metadata": { "collapsed": false }
        },
        {
            "source": "The keyword argument `end` can be used to avoid the newline after the output, or end the output with a different string:",
            "cell_type": "markdown",
            "metadata": {}
        },
        {
            "execution_count": 79,
            "cell_type": "code",
            "source": "a, b = 0, 1\nwhile b < 1000:\n    print(b, end=',')\n    a, b = b, a+b",
            "outputs": [
                {
                    "output_type": "stream",
                    "name": "stdout",
                    "text": "1,1,2,3,5,8,13,21,34,55,89,144,233,377,610,987,"
                }
            ],
            "metadata": { "collapsed": false }
        }
    ],
    "nbformat": 4,
    "metadata": {
        "kernelspec": {
            "display_name": "Python 3",
            "name": "python3",
            "language": "python"
        },
        "language_info": {
            "mimetype": "text/x-python",
            "nbconvert_exporter": "python",
            "version": "3.5.1",
            "name": "python",
            "file_extension": ".py",
            "pygments_lexer": "ipython3",
            "codemirror_mode": {
                "version": 3,
                "name": "ipython"
            }
        }
    }
}