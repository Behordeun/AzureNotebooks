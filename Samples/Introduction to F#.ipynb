{
 "cells": [
  {
   "cell_type": "markdown",
   "metadata": {},
   "source": [
    "<div style=\"text-align: center\"><img width=150px src=\"https://fsharp.org/img/logo/fsharp256.png\"></div>"
   ]
  },
  {
   "cell_type": "markdown",
   "metadata": {},
   "source": [
    "# Introduction to F# #\n",
    "\n",
    "F# is an open-source and cross-platform language that's supported by the [F# Software Foundation](http://fsharp.org) and a worldwide community of contributors. Microsoft and other companies develop professional tooling for F#.\n",
    "\n",
    "As a language, F# excels at succinct, correct, and maintainable code, and is scalable from small scripting projects to enterprise-level software. F# is used for [data scripting](https://fsharpforfunandprofit.com/posts/low-risk-ways-to-use-fsharp-at-work-2/), [data science](http://fslab.org), [web programming](http://fsharp.org/guides/web/), and component development. It interoperates with a wide range of software libraries and tools, and you can use all .NET and C# libraries with F#.\n",
    "\n",
    "F# is well suited for Jupyter notebooks because declarations are ordered in a script-like way. This present notebook, which provides introductory F# example, assumes you are familiar with basic programming structures already. There are also many other [F# learning resources](http://fsharp.org/learn.html), including the[F# Cheatsheet](https://dungpa.github.io/fsharp-cheatsheet/) is a quick guide. \n",
    "\n",
    "## F# Basics #\n",
    "\n",
    "Let's start with some simple arithmetic:"
   ]
  },
  {
   "cell_type": "code",
   "execution_count": null,
   "metadata": {},
   "outputs": [],
   "source": [
    "(12/4 + 5 + 7) * 4 - 18"
   ]
  },
  {
   "cell_type": "markdown",
   "metadata": {},
   "source": [
    "The following code creates a list of numbers using `[start .. end]`, and assigns to the variable `sampleNumbers` using the `let` statement:"
   ]
  },
  {
   "cell_type": "code",
   "execution_count": null,
   "metadata": {},
   "outputs": [],
   "source": [
    "let sampleNumbers = [ 0 .. 15 ]\n",
    "\n",
    "sampleNumbers"
   ]
  },
  {
   "cell_type": "markdown",
   "metadata": {},
   "source": [
    "Next, use `let` to define a function that accepts and returns an integer. When needed, annotate the type of a parameter name using `(argument: type)`. Documentation comments are added using `///`. When calling a function, parenthases are optional:"
   ]
  },
  {
   "cell_type": "code",
   "execution_count": null,
   "metadata": {},
   "outputs": [],
   "source": [
    "/// A function to compute a sample curve\n",
    "let sampleFunction (x:int) = \n",
    "    2*x*x - 5*x + 3\n",
    "\n",
    "sampleFunction 7"
   ]
  },
  {
   "cell_type": "code",
   "execution_count": null,
   "metadata": {},
   "outputs": [],
   "source": [
    "sampleFunction (7 + 4)"
   ]
  },
  {
   "cell_type": "markdown",
   "metadata": {},
   "source": [
    "Note that F#, like Python, uses indentation to define blocks. You can find out more about this in the topic [F# syntax: indentation and verbosity](https://fsharpforfunandprofit.com/posts/fsharp-syntax/).\n",
    "\n",
    "To convert between numeric types `int`, `double`, `int64`, `bigint`, and so on, use conversion functions of the same name:"
   ]
  },
  {
   "cell_type": "code",
   "execution_count": null,
   "metadata": {},
   "outputs": [],
   "source": [
    "sampleFunction (int 3.14 + int 2.79)"
   ]
  },
  {
   "cell_type": "markdown",
   "metadata": {},
   "source": [
    "Conditionals are expressed using `if...then...else`, and booleans are expressed using `true`, `false`, `&&`, `||` and `not`:"
   ]
  },
  {
   "cell_type": "code",
   "execution_count": null,
   "metadata": {},
   "outputs": [],
   "source": [
    "if 98.0 < 100.0 then 10 else 20"
   ]
  },
  {
   "cell_type": "code",
   "execution_count": null,
   "metadata": {},
   "outputs": [],
   "source": [
    "not false && (true || false)"
   ]
  },
  {
   "cell_type": "markdown",
   "metadata": {},
   "source": [
    "### Strings, Tuples, Lists and Arrays\n",
    "\n",
    "String literals use quotes or triple-quotes, and you can concatenate strings with the `+` operator:"
   ]
  },
  {
   "cell_type": "code",
   "execution_count": null,
   "metadata": {},
   "outputs": [],
   "source": [
    "let helloWorld = \"Hello\" + \" \" + \"world\"\n",
    "\n",
    "helloWorld"
   ]
  },
  {
   "cell_type": "code",
   "execution_count": null,
   "metadata": {},
   "outputs": [],
   "source": [
    "let tripleQuoteString = \"\"\"A triple-quoted string can contain double quotes \" anywhere within it.\"\"\"\n",
    "\n",
    "tripleQuoteString"
   ]
  },
  {
   "cell_type": "markdown",
   "metadata": {},
   "source": [
    "A tuple combines multiple data items into one value. Below is a tuple consisting of an integer, a string, and a double-precision floating point number:"
   ]
  },
  {
   "cell_type": "code",
   "execution_count": null,
   "metadata": {},
   "outputs": [],
   "source": [
    "(1, \"fred\", 3.1415)"
   ]
  },
  {
   "cell_type": "markdown",
   "metadata": {},
   "source": [
    "Lists are linear sequences of values of the same type. The code below generates a list containing all the Fridays of the first half of 2017. This example also shows you how to use some of the very extensive .NET libraries, all of which are available to F#. Find out more about the .NET libraries in online resources such as the [.NET Framework API Reference](https://docs.microsoft.com/en-us/dotnet/)."
   ]
  },
  {
   "cell_type": "code",
   "execution_count": null,
   "metadata": {},
   "outputs": [],
   "source": [
    "open System\n",
    "\n",
    "let fridaysList = \n",
    "    [ for month in 1 .. 6 do\n",
    "        for day in 1 .. DateTime.DaysInMonth(2017, month) do \n",
    "          let date = DateTime(2017, month, day)\n",
    "          if date.DayOfWeek = DayOfWeek.Friday then \n",
    "            yield date.ToShortDateString() ]\n",
    "              \n",
    "fridaysList              "
   ]
  },
  {
   "cell_type": "markdown",
   "metadata": {},
   "source": [
    "Arrays are similar to lists but are mutable and are stored as flat data rather than linked lists:"
   ]
  },
  {
   "cell_type": "code",
   "execution_count": null,
   "metadata": {},
   "outputs": [],
   "source": [
    "let lowNumbers = [| 1 .. 200 |]\n",
    "\n",
    "lowNumbers"
   ]
  },
  {
   "cell_type": "markdown",
   "metadata": {},
   "source": [
    "Lists, arrays and sequences can be processed using functions. Use the pipeline operator `|>` and a function to process data using `List.map`:"
   ]
  },
  {
   "cell_type": "code",
   "execution_count": null,
   "metadata": {},
   "outputs": [],
   "source": [
    "sampleNumbers \n",
    "|> List.map (fun x -> x*x) "
   ]
  },
  {
   "cell_type": "markdown",
   "metadata": {},
   "source": [
    "Pipelines can be chained together.  The following pipeline computes the sum of a selection of square numbers:"
   ]
  },
  {
   "cell_type": "code",
   "execution_count": null,
   "metadata": {},
   "outputs": [],
   "source": [
    "let sumOfSelectedSquares = \n",
    "    sampleNumbers\n",
    "    |> List.map (fun x -> x*x) \n",
    "    |> List.filter (fun x -> x % 3 = 0)\n",
    "    |> List.sumBy (fun x -> x * x)\n",
    "    \n",
    "sumOfSelectedSquares    "
   ]
  },
  {
   "cell_type": "markdown",
   "metadata": {},
   "source": [
    "Both lists and arrays can use slicing notation (note that unlike Python, F# slicing notation is inclusive of the upper bound):"
   ]
  },
  {
   "cell_type": "code",
   "execution_count": null,
   "metadata": {},
   "outputs": [],
   "source": [
    "lowNumbers.[0 .. 50]"
   ]
  },
  {
   "cell_type": "markdown",
   "metadata": {},
   "source": [
    "### Sequences\n",
    "\n",
    "Sequences are computed on-demand and are specified using the same constructs as lists and arrays.  Here is an infinite sequence which is a random walk. Use `yield!` to return each element of a subsequence:"
   ]
  },
  {
   "cell_type": "code",
   "execution_count": null,
   "metadata": {},
   "outputs": [],
   "source": [
    "let rnd = System.Random()\n",
    "\n",
    "let rec randomWalk x =\n",
    "    seq { yield x\n",
    "          yield! randomWalk (x + rnd.NextDouble() - 0.5) }\n",
    "\n",
    "let firstValuesOfRandomWalk = \n",
    "    randomWalk 5.0 \n",
    "    |> Seq.truncate 20\n",
    "    |> Seq.toList\n",
    "    \n",
    "firstValuesOfRandomWalk"
   ]
  },
  {
   "cell_type": "markdown",
   "metadata": {},
   "source": [
    "### Type Definitions\n",
    "\n",
    "F# is a typed language. The example below defines a record type. Learn more about F# type definitions in online resources such as [F# for Fun and Profit](https://fsharpforfunandprofit.com/posts/overview-of-types-in-fsharp/).\n",
    "\n",
    "The type definition uses an option value. Option values are any kind of value tagged with either `Some` or `None`. They're used extensively in F# code to represent the cases where many other languages would use null references."
   ]
  },
  {
   "cell_type": "code",
   "execution_count": null,
   "metadata": {},
   "outputs": [],
   "source": [
    "type ContactCard = \n",
    "    { Name     : string\n",
    "      Phone    : string\n",
    "      Verified : bool\n",
    "      ZipCode : string option}            \n",
    "      \n",
    "let sampleCard = { Name = \"Alf\" ; Phone = \"(206) 555-0157\" ; Verified = false; ZipCode=Some \"90210\" }\n",
    "\n",
    "sampleCard"
   ]
  },
  {
   "cell_type": "code",
   "execution_count": null,
   "metadata": {},
   "outputs": [],
   "source": [
    "let showCard (c: ContactCard) = \n",
    "    c.Name + \" Phone: \" + c.Phone + (if not c.Verified then \" (unverified)\" else \"\")\n",
    "    \n",
    "showCard sampleCard"
   ]
  },
  {
   "cell_type": "markdown",
   "metadata": {},
   "source": [
    "### UnitsOfMeasure\n",
    "\n",
    "Code can be annotated with units of measure when using F# arithmetic over numeric types:"
   ]
  },
  {
   "cell_type": "code",
   "execution_count": null,
   "metadata": {},
   "outputs": [],
   "source": [
    "open Microsoft.FSharp.Data.UnitSystems.SI.UnitNames\n",
    "\n",
    "let raceLength = 1600.0<meter>\n",
    "\n",
    "[<Measure>]\n",
    "type mile =\n",
    "    /// Conversion factor mile to meter: meter is defined in SI.UnitNames\n",
    "    static member asMeter = 1609.344<meter/mile>\n",
    "\n",
    "/// Distance expressed using imperial units\n",
    "let distanceToWalk  = 500.0<mile>          \n",
    "\n",
    "// Same distanceusing metric system\n",
    "let distanceToWalkInMeters = distanceToWalk * mile.asMeter   \n",
    "\n",
    "(raceLength, distanceToWalk, distanceToWalkInMeters)"
   ]
  },
  {
   "cell_type": "markdown",
   "metadata": {},
   "source": [
    "### Parallel Programming\n",
    "\n",
    "You can use `Array.Parallel.map` and `Async.Parallel` and related functions to do parallel processing of collections:"
   ]
  },
  {
   "cell_type": "code",
   "execution_count": null,
   "metadata": {},
   "outputs": [],
   "source": [
    "let oneBigArray = [| 0 .. 100000 |]\n",
    "\n",
    "// Do some CPU intensive computation\n",
    "let rec computeSomeFunction x = \n",
    "    if x <= 2 then 1 \n",
    "    else computeSomeFunction (x - 1) + computeSomeFunction (x - 2)\n",
    "       \n",
    "/// Do a parallel map over a large input array\n",
    "let computeResults() = oneBigArray |> Array.Parallel.map (fun x -> computeSomeFunction (x % 24))\n",
    "\n",
    "computeResults()"
   ]
  },
  {
   "cell_type": "markdown",
   "metadata": {},
   "source": [
    "### Learning More\n",
    "\n",
    "A range of F# learning topics are available online at [The F# Software Foundation](http://fsharp.org/learn) and also the [Microsoft .NET Docs F# Guide](https://docs.microsoft.com/dotnet/fsharp/)."
   ]
  },
  {
   "cell_type": "markdown",
   "metadata": {},
   "source": [
    "# Special Features of F# in Azure Notebooks\n",
    "\n",
    "Azure Notebooks uses [`IfSharp`](http://fsprojects.github.io/IfSharp/) to provide F# Notebooks. This section will take you through some of the nice ways you can combine F# features with the display mechanisms provides by `IfSharp`."
   ]
  },
  {
   "cell_type": "markdown",
   "metadata": {},
   "source": [
    "## Referencing NuGet Packages using Paket\n",
    "\n",
    "There are thousands of well-engineered packages available for use with F#.  Most are provided via [nuget.org](http://nuget.org). You can use the [Paket dependency manager](https://fsprojects.github.io/Paket/) to add references to NuGet packages to your F# Azure Notebook."
   ]
  },
  {
   "cell_type": "code",
   "execution_count": null,
   "metadata": {
    "scrolled": true
   },
   "outputs": [],
   "source": [
    "#load \"Paket.fsx\""
   ]
  },
  {
   "cell_type": "markdown",
   "metadata": {},
   "source": [
    "The following code installs the selected packages; it may take a minute to run on first use with a particular kernel."
   ]
  },
  {
   "cell_type": "code",
   "execution_count": null,
   "metadata": {},
   "outputs": [],
   "source": [
    "Paket.Package\n",
    "  [ \"MathNet.Numerics\"\n",
    "    \"MathNet.Numerics.FSharp\"\n",
    "  ]"
   ]
  },
  {
   "cell_type": "markdown",
   "metadata": {},
   "source": [
    "You can now use these packages from your code using this reference:"
   ]
  },
  {
   "cell_type": "code",
   "execution_count": null,
   "metadata": {},
   "outputs": [],
   "source": [
    "#load \"Paket.Generated.Refs.fsx\""
   ]
  },
  {
   "cell_type": "markdown",
   "metadata": {},
   "source": [
    "For example, you can use the MathNet.Numerics linear algebra libraries:"
   ]
  },
  {
   "cell_type": "code",
   "execution_count": null,
   "metadata": {},
   "outputs": [],
   "source": [
    "open MathNet.Numerics.LinearAlgebra\n",
    "let m = matrix [[ 1.0; 2.0 ]\n",
    "                [ 3.0; 4.0 ]]\n",
    "m.Inverse() "
   ]
  },
  {
   "cell_type": "markdown",
   "metadata": {
    "nbpresent": {
     "id": "0079d7da-b825-49f4-878b-5cba790aaeb7"
    },
    "slideshow": {
     "slide_type": "slide"
    }
   },
   "source": [
    "## Tables\n",
    "\n",
    "Let's start with using `Util.Table` to display a nicely formatted table:"
   ]
  },
  {
   "cell_type": "code",
   "execution_count": null,
   "metadata": {},
   "outputs": [],
   "source": [
    "type MyType = { FirstName: string; LastName: string }\n",
    "let records = \n",
    "    [|\n",
    "        { FirstName = \"Walter\"; LastName = \"Harp\" }\n",
    "        { FirstName = \"Jeff\"; LastName = \"Smith\" }\n",
    "        { FirstName = \"Ben\"; LastName = \"Smith\" }\n",
    "        { FirstName = \"\"; LastName = \"Holly\" }\n",
    "    |]\n",
    "\n",
    "records |> Util.Table"
   ]
  },
  {
   "cell_type": "markdown",
   "metadata": {},
   "source": [
    "You can also filter the table to display a subset of the data as you display it:"
   ]
  },
  {
   "cell_type": "code",
   "execution_count": null,
   "metadata": {},
   "outputs": [],
   "source": [
    "Util.Table(records, [| \"LastName\" |])"
   ]
  },
  {
   "cell_type": "markdown",
   "metadata": {},
   "source": [
    "## Formatting text using LaTeX\n",
    "\n",
    "The following example composes some LaTeX using `LatexOutput` and the `Util.Math` function provided by `IfSharp`:"
   ]
  },
  {
   "cell_type": "code",
   "execution_count": null,
   "metadata": {},
   "outputs": [],
   "source": [
    "\"f(x)\" |> Util.Math"
   ]
  },
  {
   "cell_type": "markdown",
   "metadata": {
    "nbpresent": {
     "id": "7342d5dc-eb68-40a3-b2ce-e3c421908af4"
    }
   },
   "source": [
    "Lovely! You've used `Util.Math: string -> LatexOutput` to format LaTeX. The result of your code snippet is implictly passed to the `Display` function and shown in your output. Next we format some operators:"
   ]
  },
  {
   "cell_type": "code",
   "execution_count": null,
   "metadata": {
    "nbpresent": {
     "id": "b2f547cf-c217-4f9d-8ed4-17c26d771aca"
    }
   },
   "outputs": [],
   "source": [
    "\"\\int_0^\\infty e^{-x^2} dx \\mathrm{\\ in\\ \\LaTeX{}}\"\n",
    "  |> Util.Math"
   ]
  },
  {
   "cell_type": "markdown",
   "metadata": {
    "nbpresent": {
     "id": "7342d5dc-eb68-40a3-b2ce-e3c421908af4"
    }
   },
   "source": [
    "The result of your code snippet is implictly passed to the `Display` function and shown in your output. The `Display` function is provided by `IfSharp`. It takes any object and attempts to display it in your notebook. By default, `Display` already handles many types (including `LatexOutput`), and later we'll see how to extend it to handle any type you need.\n",
    "\n",
    "You can also call `Display` in your code, in order to display more than one output."
   ]
  },
  {
   "cell_type": "markdown",
   "metadata": {},
   "source": [
    "\n",
    "## Charts\n",
    "\n",
    "We can display charts, using [`XPlot.Plotly`](https://tahahachana.github.io/XPlot/plotly.html):"
   ]
  },
  {
   "cell_type": "code",
   "execution_count": null,
   "metadata": {},
   "outputs": [],
   "source": [
    "#load \"XPlot.Plotly.Paket.fsx\"\n",
    "#load \"XPlot.Plotly.fsx\"\n",
    "open XPlot.Plotly"
   ]
  },
  {
   "cell_type": "markdown",
   "metadata": {},
   "source": [
    "For example:"
   ]
  },
  {
   "cell_type": "code",
   "execution_count": null,
   "metadata": {},
   "outputs": [],
   "source": [
    "Heatmap(z = [[1; 20; 30]; [20; 1; 60]; [30; 60; 1]])\n",
    "    |> Chart.Plot\n",
    "    |> Chart.WithLayout (Layout(title = \"Simple Heatmap\"))"
   ]
  },
  {
   "cell_type": "code",
   "execution_count": null,
   "metadata": {
    "nbpresent": {
     "id": "575cd23f-9194-41a7-a58b-2aa59de77830"
    },
    "scrolled": true
   },
   "outputs": [],
   "source": [
    "[\"giraffes\", 20; \"orangutans\", 14; \"monkeys\", 23]\n",
    "    |> Chart.Bar\n",
    "    |> Chart.WithLayout (Layout(title = \"Basic Bar Chart\"))\n",
    "    |> Chart.WithHeight 300\n",
    "    |> Chart.WithWidth 400"
   ]
  },
  {
   "cell_type": "markdown",
   "metadata": {},
   "source": [
    "Note that we had to `#load` two helper scripts in order to load the assemblies we need and to enable `Display` to show our charts. The first downloads and installs the required Paket packages, and the second sets up `Display` support."
   ]
  },
  {
   "cell_type": "markdown",
   "metadata": {
    "collapsed": true
   },
   "source": [
    "### Other charting libraries\n",
    "\n",
    "You can use any charting library on [nuget.org](http://nuget.org) in a notebook. For example, the code below uses [Angara.Chart](http://predictionmachines.github.io/Angara.Chart) to render charts:"
   ]
  },
  {
   "cell_type": "code",
   "execution_count": null,
   "metadata": {
    "scrolled": true
   },
   "outputs": [],
   "source": [
    "#load \"Angara.Charting.Paket.fsx\"\n",
    "#load \"Angara.Charting.fsx\""
   ]
  },
  {
   "cell_type": "code",
   "execution_count": null,
   "metadata": {},
   "outputs": [],
   "source": [
    "let x = [| for i in 0..99 -> float(i) / 10.0 |]\n",
    "let y = x |> Array.map (fun x -> sin x)\n",
    "let z = x |> Array.map (fun x -> cos x)\n",
    "\n",
    "[ Angara.Charting.Plot.line(x, y); Angara.Charting.Plot.markers(x, z) ] |> Angara.Charting.Chart.ofList"
   ]
  },
  {
   "cell_type": "markdown",
   "metadata": {},
   "source": [
    "## Computed inline HTML \n",
    "\n",
    "You can also format HTML and display it by producing values of a special type ``HtmlOutput`` (a record type with one field ``Html``):"
   ]
  },
  {
   "cell_type": "code",
   "execution_count": null,
   "metadata": {},
   "outputs": [],
   "source": [
    "let html x = { Html = x }\n",
    " \n",
    "html \"\"\"<div style=\"background-color: #007fff; font-weight: bold;\">Would you like some toast?</div>\"\"\"\n",
    "\n",
    "// Exercise - try video content:\n",
    "//  <video width=\"480\" controls poster=\"https://archive.org/download/WebmVp8Vorbis/webmvp8.gif\" >\n",
    "//    <source src=\"https://archive.org/download/WebmVp8Vorbis/webmvp8.webm\" type=\"video/webm\">\n",
    "//    <source src=\"https://archive.org/download/WebmVp8Vorbis/webmvp8_512kb.mp4\" type=\"video/mp4\">\n",
    "//    <source src=\"https://archive.org/download/WebmVp8Vorbis/webmvp8.ogv\" type=\"video/ogg\">\n",
    "//    Your browser doesn't support HTML5 video tag.\n",
    "//  </video>\"\"\""
   ]
  },
  {
   "cell_type": "markdown",
   "metadata": {},
   "source": [
    "This type renders its content directly as HTML."
   ]
  },
  {
   "cell_type": "markdown",
   "metadata": {},
   "source": [
    "Certain sites of content are whitelisted for use from Azure Notebooks.  At the time of writing these include `raw.githubusercontent.com`, `github.com`, `onedrive.live.com` and a range of Azure services. You can include content from these sites directly through `Util.Url`:"
   ]
  },
  {
   "cell_type": "code",
   "execution_count": null,
   "metadata": {},
   "outputs": [],
   "source": [
    "\"https://github.com/fsharp/fsfoundation/raw/gh-pages/img/logo/fsharp256.png\"\n",
    "  |> Util.Url"
   ]
  },
  {
   "cell_type": "markdown",
   "metadata": {},
   "source": [
    "> **Note**: Evaluation uses a REPL\n",
    ">\n",
    "> Notice that we used a value from an earlier snippet in a later one. Your entire notebook is a single program running in an `fsi` REPL, so you accumulate data and functions as you go. The caveat is that code cells aren't reevaluated unless you specifically run them. If you go back and edit an earlier snippet, then, you can reference objects that are defined in later code cells! If you reevaluate your entire notebook, this causes errors.\n",
    ">\n",
    "> Just remember that your notebook is a single REPL instance, and you won't be surprised by this behavior."
   ]
  },
  {
   "cell_type": "markdown",
   "metadata": {},
   "source": [
    "## Custom `Display` Printers\n",
    "\n",
    "The `Display` function can show many things in your F# Azure Notebook already, but you can extend it to display any type in any way that suits you. To do this, use `IfSharp.Kernel.App.AddDisplayPrinter` to add a function that accepts your type and returns a record that includes a `ContentType: string` (which is interpreted as a MIME Content-Type) and a `Data: string`, which is the content that will be interpreted by your browser as the specified Content-Type.\n",
    "\n",
    "Often this will be \"text/html\" and some HTML. Here's an example:"
   ]
  },
  {
   "cell_type": "code",
   "execution_count": null,
   "metadata": {},
   "outputs": [],
   "source": [
    "open IfSharp.Kernel.App\n",
    "\n",
    "type Person = \n",
    "    { Name: string }\n",
    "\n",
    "AddDisplayPrinter (fun (person: Person) -> { ContentType = \"text/html\"; Data = \"<b><i>Ahoy \" + person.Name + \"!</i></b>\" })"
   ]
  },
  {
   "cell_type": "markdown",
   "metadata": {},
   "source": [
    "After this the Person type will display in the requiested way:"
   ]
  },
  {
   "cell_type": "code",
   "execution_count": null,
   "metadata": {},
   "outputs": [],
   "source": [
    "let samplePerson = { Name = \"Walter\" }\n",
    "\n",
    "samplePerson"
   ]
  },
  {
   "cell_type": "markdown",
   "metadata": {},
   "source": [
    "# Using JavaScript to display dynamic output\n",
    "\n",
    "You can also use existing browser display technologies directly in your Azure Notebook. Start by loading D3:"
   ]
  },
  {
   "cell_type": "code",
   "execution_count": null,
   "metadata": {},
   "outputs": [],
   "source": [
    "@\"<script src=\"\"https://d3js.org/d3.v3.min.js\"\"></script>\" |> Util.Html |> Display"
   ]
  },
  {
   "cell_type": "markdown",
   "metadata": {},
   "source": [
    "Now define a few F# types and functions that will let you write D3 output as structured F# data. These types are pretty simple, and don't cover everything D3 can do, but it shows how F# can interact with JavaScript directly in your notebook."
   ]
  },
  {
   "cell_type": "code",
   "execution_count": null,
   "metadata": {
    "scrolled": true
   },
   "outputs": [],
   "source": [
    "type D3Op = {\n",
    "    Op: string\n",
    "    Style: List<string * string>\n",
    "    Attr: List<string * int>\n",
    "    On: List<string * List<D3Op>>\n",
    "}\n",
    "\n",
    "type D3 = List<D3Op>\n",
    "\n",
    "let d3op = {Op = \"\"; Style = []; Attr = []; On = []}\n",
    "\n",
    "let mapConcat s f xs = \n",
    "    xs |> List.map f |> String.concat s\n",
    "\n",
    "let rec D3OpPrinter (op: D3Op) =\n",
    "    sprintf \n",
    "        \"%s%s%s%s\"\n",
    "        (if op.Op.Length > 0 then\n",
    "            sprintf \"\\t.append(\\\"%s\\\")\\n\" op.Op\n",
    "        else\n",
    "            \"\")\n",
    "        (op.Style |> mapConcat \"\\t\" (fun (k, v) -> sprintf \".style(\\\"%s\\\", \\\"%s\\\")\\n\" k v ) )\n",
    "        (op.Attr |> mapConcat \"\\t\" (fun (k, v) -> sprintf \".attr(\\\"%s\\\", %d)\\n\" k v))\n",
    "        (op.On\n",
    "            |> mapConcat \"\\t\" (fun (k, v) ->\n",
    "                sprintf \n",
    "                    \".on(\\\"%s\\\",\\n\\tfunction(){\\n\\td3.select(this)\\n%s\\t})\\n\"\n",
    "                    k\n",
    "                    (v |> mapConcat \"\" D3OpPrinter)\n",
    "                ))\n",
    "\n",
    "let D3Printer (d3: D3) =\n",
    "    sprintf \n",
    "        \"\"\"\n",
    "<div id=\"viz\"></div>\n",
    "<script type=\"text/javascript\">\n",
    "\n",
    "d3.select(\"#viz\")\n",
    "%s\n",
    "\"\"\"\n",
    "        (d3 |> mapConcat \"\" D3OpPrinter)\n",
    "\n",
    "App.AddDisplayPrinter (fun (d3: D3) ->\n",
    "  { ContentType = \"text/html\"\n",
    "    Data = D3Printer d3 }\n",
    "  )"
   ]
  },
  {
   "cell_type": "markdown",
   "metadata": {},
   "source": [
    "Now use D3 to render a circle that changes color when you put your mouse over it, by writing structured data:"
   ]
  },
  {
   "cell_type": "code",
   "execution_count": null,
   "metadata": {},
   "outputs": [],
   "source": [
    "[\n",
    "    {d3op with \n",
    "        Op = \"svg\"\n",
    "        Attr = [(\"width\", 100); (\"height\", 100)] }\n",
    "    {d3op with\n",
    "        Op = \"circle\"\n",
    "        Style = [(\"stroke\", \"grey\"); (\"fill\", \"white\")]\n",
    "        Attr = [(\"r\", 40); (\"cx\", 50); (\"cy\", 50)]\n",
    "        On = \n",
    "          [ (\"mouseover\", [{d3op with Style = [(\"fill\", \"blue\")]}])\n",
    "            (\"mouseout\", [{d3op with Style = [(\"fill\", \"white\")]}]) ] }\n",
    "]"
   ]
  },
  {
   "cell_type": "markdown",
   "metadata": {},
   "source": [
    "## Additional resources\n",
    "\n",
    "The [F# Language Reference](https://docs.microsoft.com/dotnet/articles/fsharp/) is a reference for the F# language, and the [F# Guide](https://docs.microsoft.com/dotnet/articles/fsharp/) covers general topics.\n",
    "\n",
    "[F# on Azure](https://docs.microsoft.com/dotnet/articles/fsharp/using-fsharp-on-azure/) is a technical guide for using F# in conjunction with a range of Azure services."
   ]
  },
  {
   "cell_type": "code",
   "execution_count": null,
   "metadata": {},
   "outputs": [],
   "source": []
  }
 ],
 "metadata": {
  "anaconda-cloud": {},
  "kernelspec": {
   "display_name": "F#",
   "language": "fsharp",
   "name": "ifsharp"
  },
  "language": "fsharp",
  "language_info": {
   "codemirror_mode": "",
   "file_extension": ".fs",
   "mimetype": "text/x-fsharp",
   "name": "fsharp",
   "nbconvert_exporter": "",
   "pygments_lexer": "",
   "version": "4.3.1.0"
  },
  "nbpresent": {
   "slides": {
    "09a16b12-0691-4580-9d91-25312b21b24d": {
     "id": "09a16b12-0691-4580-9d91-25312b21b24d",
     "prev": null,
     "regions": {
      "4e892448-127f-4afd-8117-a03bbf32575a": {
       "attrs": {
        "height": 0.6143916207717987,
        "width": 0.7999977189173325,
        "x": 0.1000000097925266,
        "y": 0.09999999668462171
       },
       "content": {
        "cell": "b2f547cf-c217-4f9d-8ed4-17c26d771aca",
        "part": "whole"
       },
       "id": "4e892448-127f-4afd-8117-a03bbf32575a"
      }
     }
    },
    "12694a15-5174-453e-9113-77250c085085": {
     "id": "12694a15-5174-453e-9113-77250c085085",
     "prev": "a3c7e8f5-e9e4-4b5f-86de-41c62b40326c",
     "regions": {
      "d5c2541b-2a6b-4b3c-b446-6590c77d378b": {
       "attrs": {
        "height": 0.8,
        "width": 0.8,
        "x": 0.1,
        "y": 0.1
       },
       "content": {
        "cell": "575cd23f-9194-41a7-a58b-2aa59de77830",
        "part": "whole"
       },
       "id": "d5c2541b-2a6b-4b3c-b446-6590c77d378b"
      }
     }
    },
    "a3c7e8f5-e9e4-4b5f-86de-41c62b40326c": {
     "id": "a3c7e8f5-e9e4-4b5f-86de-41c62b40326c",
     "prev": "a529b3ae-293e-40c2-a488-4f391110fc85",
     "regions": {
      "97f2373e-b0b6-4bb0-81a4-0d766f01a827": {
       "attrs": {
        "height": 0.8,
        "width": 0.8,
        "x": 0.1,
        "y": 0.1
       },
       "content": {
        "cell": "7342d5dc-eb68-40a3-b2ce-e3c421908af4",
        "part": "whole"
       },
       "id": "97f2373e-b0b6-4bb0-81a4-0d766f01a827"
      }
     }
    },
    "a529b3ae-293e-40c2-a488-4f391110fc85": {
     "id": "a529b3ae-293e-40c2-a488-4f391110fc85",
     "prev": "09a16b12-0691-4580-9d91-25312b21b24d",
     "regions": {
      "8c5d2501-fd31-4ab6-bb09-e8f88e9f52cd": {
       "attrs": {
        "height": 0.8,
        "width": 0.8,
        "x": 0.1,
        "y": 0.1
       },
       "content": {
        "cell": "69a0e6cc-f59f-44e7-b525-3d54c0d28102",
        "part": "whole"
       },
       "id": "8c5d2501-fd31-4ab6-bb09-e8f88e9f52cd"
      }
     }
    }
   },
   "themes": {}
  }
 },
 "nbformat": 4,
 "nbformat_minor": 1
}
