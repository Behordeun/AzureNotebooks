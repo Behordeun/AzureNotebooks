{
 "cells": [
  {
   "cell_type": "markdown",
   "metadata": {},
   "source": [
    "# Discover sentiment in tweets\n",
    "\n",
    "Sentiment analysis is commonly used in marketing and customer service to answer questions such as \"Is a product review positive or negative?\" and \"How are customers responding to a product release?\"\n",
    "\n",
    "*Topic modeling* discovers the abstract topics in a corpus of texts. The results from topic modeling analysis can then be used in sentiment analysis. For example, they can be used to split texts into different subsets and allow us to train a separate sentiment model for each of the subsets. Training separate sentiment models for different subsets can lead to more accurate predictions than using a single model for all the texts. \n",
    "\n",
    "This notebook illustrates how to discover and visualize topics from a corpus of Twitter tweets using Jupyter notebook. \n",
    "\n",
    "## Read and prepare the data\n",
    "\n",
    "The dataset used in this notebook is based on the [Sentiment140](http://help.sentiment140.com/) dataset, which contains approximately 1,600,000 automatically annotated tweets with six fields per tweet. Here we use only a [160,000 tweet sample](http://azuremlsamples.azureml.net/templatedata/Text%20-%20Input.csv) of that dataset with two fields for each tweet: the polarity of the tweet and the text of the tweet.\n",
    "\n",
    "The following command downloads the data into the file *sentiment140-subset.csv* in the current session."
   ]
  },
  {
   "cell_type": "code",
   "execution_count": null,
   "metadata": {},
   "outputs": [],
   "source": [
    "!curl -o sentiment140-subset.csv http://azuremlsamples.azureml.net/templatedata/Text%20-%20Input.csv"
   ]
  },
  {
   "cell_type": "markdown",
   "metadata": {},
   "source": [
    "You can use the `ls` command to see it in the project's files:"
   ]
  },
  {
   "cell_type": "code",
   "execution_count": null,
   "metadata": {},
   "outputs": [],
   "source": [
    "!ls"
   ]
  },
  {
   "cell_type": "markdown",
   "metadata": {},
   "source": [
    "Next, prepare the data."
   ]
  },
  {
   "cell_type": "code",
   "execution_count": null,
   "metadata": {
    "scrolled": true
   },
   "outputs": [],
   "source": [
    "import os\n",
    "import pandas as pd\n",
    "\n",
    "dirname = os.getcwd()\n",
    "\n",
    "mydata = pd.read_csv(\"sentiment140-subset.csv\", header = 0)\n",
    "print(mydata.shape)\n",
    "\n",
    "# Use 10000 for testing\n",
    "mydata = mydata[:10000] \n",
    "mydata.head()"
   ]
  },
  {
   "cell_type": "markdown",
   "metadata": {},
   "source": [
    "Before doing analysis, clean up the text by removing the Twitter handle, removing numbers and consecutive underscores, and changing to lower case:"
   ]
  },
  {
   "cell_type": "code",
   "execution_count": null,
   "metadata": {},
   "outputs": [],
   "source": [
    "import re\n",
    "\n",
    "def clean_text(string_in):\n",
    "    string_in = re.sub(r\"@\\w+\", \"\", string_in) # Remove twitter handle\n",
    "    string_in = re.sub(r\"\\d\", \"\", string_in)   # Remove numbers  \n",
    "    string_in = re.sub(r\"_+\", \"\", string_in)   # Remove consecutive underscores\n",
    "    string_in = string_in.lower()              # Tranform to lower case    \n",
    "    \n",
    "    return string_in.strip()\n",
    "\n",
    "mydata[\"tweet_text_cleaned\"] = mydata.tweet_text.apply(clean_text)"
   ]
  },
  {
   "cell_type": "markdown",
   "metadata": {},
   "source": [
    "Now tokenize the text data using the following line of code:"
   ]
  },
  {
   "cell_type": "code",
   "execution_count": null,
   "metadata": {},
   "outputs": [],
   "source": [
    "from nltk.tokenize import RegexpTokenizer\n",
    "preprocessed = [\" \".join(RegexpTokenizer(r'\\w+').\\\n",
    "                         tokenize(mydata.tweet_text_cleaned[idx])) \\\n",
    "                for idx in mydata.index]"
   ]
  },
  {
   "cell_type": "markdown",
   "metadata": {},
   "source": [
    "## Identify topics\n",
    "\n",
    "### Calculate tf-idf matrix\n",
    "\n",
    "In order to use non-negative matrix factorization, we first calculate the *tf-idf* (term frequency-inverse document frequency) matrix. The value of tf-idf reflects the number times a word appears in the *document* after adjusting for the frequency of the word in the *corpus*. \n",
    "\n",
    "When calculating the tf-idf matrix, we can filter out words like \"being\" and \"for\" which are called *stop words*. The following code filters out the stop words as defined by the [scikit-learn](http://scikit-learn.org/stable/) package. You can expand the list of stop words by adding to the `custom_stop_words` variable. "
   ]
  },
  {
   "cell_type": "code",
   "execution_count": null,
   "metadata": {},
   "outputs": [],
   "source": [
    "from sklearn.feature_extraction.text import TfidfVectorizer\n",
    "from sklearn.feature_extraction import text \n",
    "\n",
    "custom_stop_words = []\n",
    "my_stop_words = text.ENGLISH_STOP_WORDS.union(custom_stop_words)\n",
    "\n",
    "vectorizer = TfidfVectorizer(min_df = 1, ngram_range = (1,1), \n",
    "                             stop_words = my_stop_words)\n",
    "\n",
    "tfidf = vectorizer.fit_transform(preprocessed)\n",
    "print(\"Created document-term matrix of size %d x %d\" % (tfidf.shape[0],tfidf.shape[1]))"
   ]
  },
  {
   "cell_type": "markdown",
   "metadata": {},
   "source": [
    "### NMF analysis\n",
    "\n",
    "If we use **X** to represent a **document-word** matrix with tf-idf values, non-negative matrix factorization factorizes the matrix into two matrices **W** and **H**, representing **document-topic** and **topic-word** matrices, respectively, as shown in the following figure:\n",
    "\n",
    "![Figure 1](https://cloud.githubusercontent.com/assets/9322661/18445719/ea601214-78ec-11e6-9858-b29d62e29c9e.png)\n",
    "\n",
    "The matrix **W** allows us to compare texts and determine which ones are similar. The matrix **H** tells us the top words in any given topic and we can use visualization to better undertand the topics. \n",
    "\n",
    "For any new text represented by **X_new**, we can make predictions in the sense that the **W_new** value can be computed from the **H** matrix.\n",
    "\n",
    "Other topic finding models (e.g., Latent Dirichlet Allocation (LDA)) are also available in the [scikit-learn](http://scikit-learn.org/stable/) package but aren't covered here. Compared with LDA, NMF has cheaper computation cost and is a good choice for short text analysis.  \n",
    "\n",
    "Now we can use NMF on the derived tf-idf matrix. We specify the number of topics to be three. "
   ]
  },
  {
   "cell_type": "code",
   "execution_count": null,
   "metadata": {},
   "outputs": [],
   "source": [
    "from sklearn import decomposition\n",
    "import numpy as np\n",
    "nmf = decomposition.NMF(init = 'nndsvd', n_components = 3, max_iter = 200)\n",
    "W = nmf.fit_transform(tfidf)\n",
    "H = nmf.components_\n",
    "print(\"Generated factor W of size %s and factor H of size %s\" % ( str(W.shape), str(H.shape)))\n",
    "\n",
    "feature_names = vectorizer.get_feature_names()\n",
    "n_top_words = 10\n",
    "\n",
    "# Print top words in each topic\n",
    "for topic_idx, topic in enumerate(H):\n",
    "    print(\"Topic #%d:\" % topic_idx)\n",
    "    print(\" \".join([feature_names[i]\n",
    "                    for i in topic.argsort()[:-n_top_words - 1:-1]]))\n",
    "    print()"
   ]
  },
  {
   "cell_type": "markdown",
   "metadata": {},
   "source": [
    "## Visualize topics with a word cloud\n",
    "\n",
    "To better communicate the topics found, we can use the [wordcloud](https://github.com/amueller/word_cloud) package. Because this package is not pre-installed, install it first using commands:"
   ]
  },
  {
   "cell_type": "code",
   "execution_count": null,
   "metadata": {},
   "outputs": [],
   "source": [
    "!pip install wordcloud"
   ]
  },
  {
   "cell_type": "markdown",
   "metadata": {},
   "source": [
    "Next, separate the topics into separate sorted lists:"
   ]
  },
  {
   "cell_type": "code",
   "execution_count": null,
   "metadata": {
    "scrolled": true
   },
   "outputs": [],
   "source": [
    "# Create pandas dataframe for the topics\n",
    "mydf = pd.DataFrame({\"feature_name\": feature_names})\n",
    "\n",
    "for topic_idx, topic in enumerate(H):\n",
    "    mydf[\"topic_\" + str(topic_idx)] = topic\n",
    "\n",
    "mylist = list(mydf.itertuples())\n",
    "\n",
    "mywords_topic1 = []\n",
    "mywords_topic2 = []\n",
    "mywords_topic3 = []\n",
    "\n",
    "for order_id, key, num1, num2, num3 in mylist:\n",
    "    mywords_topic1.append((key, num1))\n",
    "    mywords_topic2.append((key, num2))\n",
    "    mywords_topic3.append((key, num3))\n",
    "\n",
    "mywords_topic1 = sorted(mywords_topic1, key=lambda myword: myword[1], reverse=True)\n",
    "mywords_topic2 = sorted(mywords_topic2, key=lambda myword: myword[1], reverse=True)\n",
    "mywords_topic3 = sorted(mywords_topic3, key=lambda myword: myword[1], reverse=True)"
   ]
  },
  {
   "cell_type": "markdown",
   "metadata": {},
   "source": [
    "Finally, generate the word cloud for the three topics identified from NMF. Larger fonts indicate higher weights of the words in a topic and the colors are randomly assigned. Compared with a simple list, from a word cloud we can better understand the relative frequency of all the words:"
   ]
  },
  {
   "cell_type": "code",
   "execution_count": null,
   "metadata": {
    "scrolled": true
   },
   "outputs": [],
   "source": [
    "from wordcloud import WordCloud \n",
    "import matplotlib.pyplot as plt\n",
    "\n",
    "%matplotlib inline\n",
    "\n",
    "def draw_wordcloud(dict, topic_number):\n",
    "    wc = WordCloud(max_words=1000)    \n",
    "    wordcloud = WordCloud().generate_from_frequencies(dict)\n",
    "    \n",
    "    plt.title('Topic %s' %str(topic_number), size = 16)\n",
    "    plt.imshow(wordcloud, interpolation=\"bilinear\")\n",
    "    plt.axis(\"off\")        \n",
    "    plt.show()\n",
    "\n",
    "draw_wordcloud(dict(mywords_topic1), topic_number=1)\n",
    "draw_wordcloud(dict(mywords_topic2), topic_number=2)\n",
    "draw_wordcloud(dict(mywords_topic3), topic_number=3)"
   ]
  },
  {
   "cell_type": "markdown",
   "metadata": {},
   "source": [
    "## Making predictions\n",
    "\n",
    "For any new tweet, we first calculate its tf-idf matrix (**X**) and then calculate its **W** matrix. This will then allow us to assign the new tweet to a segment and predict its sentiment (for example, positive sentiment vs. negative sentiment on a product).\n",
    "\n",
    "The following code shows how to calcuate the **W** matrix for new tweets that have been cleaned beforehand. For illustration purpose, these five tweets are the first five from the corpus used in the analysis.  "
   ]
  },
  {
   "cell_type": "code",
   "execution_count": null,
   "metadata": {},
   "outputs": [],
   "source": [
    "# Prediction example\n",
    "text_new = preprocessed[0:5]\n",
    "tfidf_new = vectorizer.transform(text_new)\n",
    "W_new = nmf.transform(tfidf_new)"
   ]
  },
  {
   "cell_type": "markdown",
   "metadata": {},
   "source": [
    "---  \n",
    "Created by a Microsoft Employee.  \n",
    "Copyright (C) Microsoft. All Rights Reserved."
   ]
  }
 ],
 "metadata": {
  "kernelspec": {
   "display_name": "Python 3.6",
   "language": "python",
   "name": "python36"
  },
  "language_info": {
   "codemirror_mode": {
    "name": "ipython",
    "version": 3
   },
   "file_extension": ".py",
   "mimetype": "text/x-python",
   "name": "python",
   "nbconvert_exporter": "python",
   "pygments_lexer": "ipython3",
   "version": "3.6.6"
  }
 },
 "nbformat": 4,
 "nbformat_minor": 1
}
